{
 "cells": [
  {
   "cell_type": "code",
   "execution_count": null,
   "id": "46324f7a-c2c8-4518-a4bb-de06833cbbf5",
   "metadata": {},
   "outputs": [],
   "source": [
    "import pandas as pd\n",
    "import numpy as np"
   ]
  },
  {
   "cell_type": "code",
   "execution_count": null,
   "id": "2f25e43f-c177-4ee4-b9d5-7b6ab56f5f37",
   "metadata": {},
   "outputs": [],
   "source": [
    "df_membership_raw = pd.read_excel(\"2022 Harmony Guzheng Annual Report (draft).xlsx\", sheet_name=\"Membership\", header=3, nrows=82)"
   ]
  },
  {
   "cell_type": "code",
   "execution_count": null,
   "id": "d243c385-e63d-4125-86c4-96718f68edbe",
   "metadata": {},
   "outputs": [],
   "source": [
    "df_members = df_membership_raw[['Name', 'Performer (Y/N)', 'Phone Number', 'Email Address', 'Street', 'City', 'Province', 'Postal Code']].\\\n",
    "    rename(columns = {\n",
    "        'Name':'name',\n",
    "        'Performer (Y/N)':'performer',\n",
    "        'Phone Number': 'phone',\n",
    "        'Email Address': 'email',\n",
    "        'Street': 'street',\n",
    "        'City': 'city',\n",
    "        'Province':'province',\n",
    "        'Postal Code': 'postal_code'\n",
    "        }\n",
    "    )\n",
    "df_members['active'] = np.nan\n",
    "df_members.performer = df_members.performer.map({'Y': True, 'N':False, np.nan:True})\n",
    "df_members.phone = df_members.phone.str.extract('(\\(\\d{3}\\)\\s*\\d{3}-\\d{4})').iloc[:,0].str.replace(' ', '')\n",
    "df_members.loc[0:2,'city'] = 'Calgary'\n",
    "df_members.loc[0:2,'province'] = 'AB'\n",
    "df_members.loc[:33,'active'] = True\n",
    "df_members.loc[34:, 'active'] = False\n",
    "df_members.active = df_members.active.astype('bool')\n",
    "df_members"
   ]
  },
  {
   "cell_type": "code",
   "execution_count": null,
   "id": "f8df9366-4239-4981-b30f-62975aa71421",
   "metadata": {},
   "outputs": [],
   "source": [
    "df_deposit_raw = pd.read_excel(\"2022 Harmony Guzheng Annual Report (draft).xlsx\", sheet_name=\"Deposit\", header=[1], usecols=range(12))\n",
    "df_deposit_raw = df_deposit_raw.drop(0).reset_index(drop=True)"
   ]
  },
  {
   "cell_type": "code",
   "execution_count": null,
   "id": "76839765-5c05-47a3-af24-ef0f1e04303d",
   "metadata": {},
   "outputs": [],
   "source": [
    "df_deposit_raw"
   ]
  },
  {
   "cell_type": "code",
   "execution_count": null,
   "id": "d8df9c0d-85c3-42fc-b225-67fee8e7ecf6",
   "metadata": {},
   "outputs": [],
   "source": [
    "df_deposit_items = pd.DataFrame(columns = ['name', 'amount', 'photo'])\n",
    "df_deposit_items.name = ['stand', 'stand bag', 'pink two-pieces uniform', 'red two-pieces uniform', 'blue qipao uniform', \n",
    "                         'procelain top uniform', 'white-purple qipao uniform', 'black skirt uniform', 'purple hanfu uniform', 'red wine dress uniform', \n",
    "                         'black dress uniform', 'lake blue dress uniform']\n",
    "df_deposit_items.amount = [60, 20, 26, 25, 50, 20, 20, 30, 30, 80, 55, 50]"
   ]
  },
  {
   "cell_type": "code",
   "execution_count": null,
   "id": "cbd351af-6c91-46da-97ff-c6e965063f39",
   "metadata": {},
   "outputs": [],
   "source": [
    "df_deposit_items"
   ]
  },
  {
   "cell_type": "code",
   "execution_count": null,
   "id": "796a16d7-4ecd-4440-95f3-57380ad1666c",
   "metadata": {},
   "outputs": [],
   "source": [
    "df_deposit_raw."
   ]
  },
  {
   "cell_type": "code",
   "execution_count": null,
   "id": "3ac44179-059a-4ff6-8749-44f5bacc1aac",
   "metadata": {},
   "outputs": [],
   "source": []
  }
 ],
 "metadata": {
  "kernelspec": {
   "display_name": "Python 3 (ipykernel)",
   "language": "python",
   "name": "python3"
  },
  "language_info": {
   "codemirror_mode": {
    "name": "ipython",
    "version": 3
   },
   "file_extension": ".py",
   "mimetype": "text/x-python",
   "name": "python",
   "nbconvert_exporter": "python",
   "pygments_lexer": "ipython3",
   "version": "3.9.7"
  }
 },
 "nbformat": 4,
 "nbformat_minor": 5
}
